{
 "cells": [
  {
   "cell_type": "code",
   "execution_count": 1,
   "metadata": {
    "_cell_guid": "b1076dfc-b9ad-4769-8c92-a6c4dae69d19",
    "_uuid": "8f2839f25d086af736a60e9eeb907d3b93b6e0e5",
    "execution": {
     "iopub.execute_input": "2025-04-10T00:41:17.855520Z",
     "iopub.status.busy": "2025-04-10T00:41:17.855301Z",
     "iopub.status.idle": "2025-04-10T00:41:18.971370Z",
     "shell.execute_reply": "2025-04-10T00:41:18.970496Z",
     "shell.execute_reply.started": "2025-04-10T00:41:17.855499Z"
    }
   },
   "outputs": [
    {
     "name": "stdout",
     "output_type": "stream",
     "text": [
      "/kaggle/input/celebal-ana-verse-h/train.parquet\n",
      "/kaggle/input/celebal-ana-verse-h/sample_submission.parquet\n",
      "/kaggle/input/celebal-ana-verse-h/test.parquet\n"
     ]
    }
   ],
   "source": [
    "# This Python 3 environment comes with many helpful analytics libraries installed\n",
    "# It is defined by the kaggle/python Docker image: https://github.com/kaggle/docker-python\n",
    "# For example, here's several helpful packages to load\n",
    "\n",
    "import numpy as np # linear algebra\n",
    "import pandas as pd # data processing, CSV file I/O (e.g. pd.read_csv)\n",
    "\n",
    "# Input data files are available in the read-only \"../input/\" directory\n",
    "# For example, running this (by clicking run or pressing Shift+Enter) will list all files under the input directory\n",
    "\n",
    "import os\n",
    "for dirname, _, filenames in os.walk('/kaggle/input'):\n",
    "    for filename in filenames:\n",
    "        print(os.path.join(dirname, filename))\n",
    "\n",
    "# You can write up to 20GB to the current directory (/kaggle/working/) that gets preserved as output when you create a version using \"Save & Run All\" \n",
    "# You can also write temporary files to /kaggle/temp/, but they won't be saved outside of the current session"
   ]
  },
  {
   "cell_type": "code",
   "execution_count": 2,
   "metadata": {
    "execution": {
     "iopub.execute_input": "2025-04-10T00:41:23.132045Z",
     "iopub.status.busy": "2025-04-10T00:41:23.131736Z",
     "iopub.status.idle": "2025-04-10T00:41:23.835192Z",
     "shell.execute_reply": "2025-04-10T00:41:23.834536Z",
     "shell.execute_reply.started": "2025-04-10T00:41:23.132018Z"
    }
   },
   "outputs": [],
   "source": [
    "import matplotlib.pyplot as plt\n",
    "import seaborn as sns"
   ]
  },
  {
   "cell_type": "code",
   "execution_count": null,
   "metadata": {
    "execution": {
     "iopub.execute_input": "2025-04-10T00:41:38.417113Z",
     "iopub.status.busy": "2025-04-10T00:41:38.416690Z",
     "iopub.status.idle": "2025-04-10T00:41:38.965699Z",
     "shell.execute_reply": "2025-04-10T00:41:38.964996Z",
     "shell.execute_reply.started": "2025-04-10T00:41:38.417086Z"
    }
   },
   "outputs": [],
   "source": [
    "df = pd.read_parquet('/kaggle/input/celebal-ana-verse-h/train.parquet')"
   ]
  },
  {
   "cell_type": "code",
   "execution_count": 27,
   "metadata": {
    "execution": {
     "iopub.execute_input": "2025-04-10T01:23:59.337023Z",
     "iopub.status.busy": "2025-04-10T01:23:59.336717Z",
     "iopub.status.idle": "2025-04-10T01:23:59.369784Z",
     "shell.execute_reply": "2025-04-10T01:23:59.368900Z",
     "shell.execute_reply.started": "2025-04-10T01:23:59.336994Z"
    }
   },
   "outputs": [],
   "source": [
    "tests = pd.read_parquet('/kaggle/input/celebal-ana-verse-h/test.parquet')"
   ]
  },
  {
   "cell_type": "code",
   "execution_count": null,
   "metadata": {
    "execution": {
     "iopub.execute_input": "2025-04-10T00:41:38.417113Z",
     "iopub.status.busy": "2025-04-10T00:41:38.416690Z",
     "iopub.status.idle": "2025-04-10T00:41:38.965699Z",
     "shell.execute_reply": "2025-04-10T00:41:38.964996Z",
     "shell.execute_reply.started": "2025-04-10T00:41:38.417086Z"
    }
   },
   "outputs": [
    {
     "data": {
      "text/html": [
       "<div>\n",
       "<style scoped>\n",
       "    .dataframe tbody tr th:only-of-type {\n",
       "        vertical-align: middle;\n",
       "    }\n",
       "\n",
       "    .dataframe tbody tr th {\n",
       "        vertical-align: top;\n",
       "    }\n",
       "\n",
       "    .dataframe thead th {\n",
       "        text-align: right;\n",
       "    }\n",
       "</style>\n",
       "<table border=\"1\" class=\"dataframe\">\n",
       "  <thead>\n",
       "    <tr style=\"text-align: right;\">\n",
       "      <th></th>\n",
       "      <th>Date</th>\n",
       "      <th>X1</th>\n",
       "      <th>X2</th>\n",
       "      <th>X3</th>\n",
       "      <th>X4</th>\n",
       "      <th>X5</th>\n",
       "      <th>target</th>\n",
       "    </tr>\n",
       "  </thead>\n",
       "  <tbody>\n",
       "    <tr>\n",
       "      <th>0</th>\n",
       "      <td>2020-12-16</td>\n",
       "      <td>1.518921</td>\n",
       "      <td>5.463154</td>\n",
       "      <td>1.0</td>\n",
       "      <td>2.718282</td>\n",
       "      <td>2.890372</td>\n",
       "      <td>0</td>\n",
       "    </tr>\n",
       "    <tr>\n",
       "      <th>1</th>\n",
       "      <td>2020-12-16</td>\n",
       "      <td>1.546509</td>\n",
       "      <td>5.458010</td>\n",
       "      <td>1.0</td>\n",
       "      <td>2.718282</td>\n",
       "      <td>2.833213</td>\n",
       "      <td>1</td>\n",
       "    </tr>\n",
       "    <tr>\n",
       "      <th>2</th>\n",
       "      <td>2020-12-16</td>\n",
       "      <td>1.645427</td>\n",
       "      <td>5.456560</td>\n",
       "      <td>1.0</td>\n",
       "      <td>7.389056</td>\n",
       "      <td>2.890372</td>\n",
       "      <td>1</td>\n",
       "    </tr>\n",
       "    <tr>\n",
       "      <th>3</th>\n",
       "      <td>2020-12-16</td>\n",
       "      <td>1.652022</td>\n",
       "      <td>5.458479</td>\n",
       "      <td>1.0</td>\n",
       "      <td>2.718282</td>\n",
       "      <td>2.890372</td>\n",
       "      <td>1</td>\n",
       "    </tr>\n",
       "    <tr>\n",
       "      <th>4</th>\n",
       "      <td>2020-12-16</td>\n",
       "      <td>1.695538</td>\n",
       "      <td>5.466709</td>\n",
       "      <td>1.0</td>\n",
       "      <td>2.718282</td>\n",
       "      <td>2.890372</td>\n",
       "      <td>0</td>\n",
       "    </tr>\n",
       "  </tbody>\n",
       "</table>\n",
       "</div>"
      ],
      "text/plain": [
       "        Date        X1        X2   X3        X4        X5 target\n",
       "0 2020-12-16  1.518921  5.463154  1.0  2.718282  2.890372      0\n",
       "1 2020-12-16  1.546509  5.458010  1.0  2.718282  2.833213      1\n",
       "2 2020-12-16  1.645427  5.456560  1.0  7.389056  2.890372      1\n",
       "3 2020-12-16  1.652022  5.458479  1.0  2.718282  2.890372      1\n",
       "4 2020-12-16  1.695538  5.466709  1.0  2.718282  2.890372      0"
      ]
     },
     "execution_count": 3,
     "metadata": {},
     "output_type": "execute_result"
    }
   ],
   "source": [
    "df.head()"
   ]
  },
  {
   "cell_type": "code",
   "execution_count": 6,
   "metadata": {
    "execution": {
     "iopub.execute_input": "2025-04-09T21:16:43.657307Z",
     "iopub.status.busy": "2025-04-09T21:16:43.657006Z",
     "iopub.status.idle": "2025-04-09T21:16:43.667900Z",
     "shell.execute_reply": "2025-04-09T21:16:43.667254Z",
     "shell.execute_reply.started": "2025-04-09T21:16:43.657285Z"
    }
   },
   "outputs": [
    {
     "data": {
      "text/html": [
       "<div>\n",
       "<style scoped>\n",
       "    .dataframe tbody tr th:only-of-type {\n",
       "        vertical-align: middle;\n",
       "    }\n",
       "\n",
       "    .dataframe tbody tr th {\n",
       "        vertical-align: top;\n",
       "    }\n",
       "\n",
       "    .dataframe thead th {\n",
       "        text-align: right;\n",
       "    }\n",
       "</style>\n",
       "<table border=\"1\" class=\"dataframe\">\n",
       "  <thead>\n",
       "    <tr style=\"text-align: right;\">\n",
       "      <th></th>\n",
       "      <th>ID</th>\n",
       "      <th>Date</th>\n",
       "      <th>X1</th>\n",
       "      <th>X2</th>\n",
       "      <th>X3</th>\n",
       "      <th>X4</th>\n",
       "      <th>X5</th>\n",
       "    </tr>\n",
       "  </thead>\n",
       "  <tbody>\n",
       "    <tr>\n",
       "      <th>0</th>\n",
       "      <td>0</td>\n",
       "      <td>2020-12-16</td>\n",
       "      <td>1.685395</td>\n",
       "      <td>5.463917</td>\n",
       "      <td>1.0</td>\n",
       "      <td>7.389056</td>\n",
       "      <td>2.890372</td>\n",
       "    </tr>\n",
       "    <tr>\n",
       "      <th>1</th>\n",
       "      <td>1</td>\n",
       "      <td>2020-12-16</td>\n",
       "      <td>1.488844</td>\n",
       "      <td>5.454936</td>\n",
       "      <td>1.0</td>\n",
       "      <td>7.389056</td>\n",
       "      <td>2.890372</td>\n",
       "    </tr>\n",
       "    <tr>\n",
       "      <th>2</th>\n",
       "      <td>2</td>\n",
       "      <td>2020-12-16</td>\n",
       "      <td>1.164160</td>\n",
       "      <td>5.471136</td>\n",
       "      <td>1.0</td>\n",
       "      <td>1.000000</td>\n",
       "      <td>2.890372</td>\n",
       "    </tr>\n",
       "    <tr>\n",
       "      <th>3</th>\n",
       "      <td>3</td>\n",
       "      <td>2020-12-16</td>\n",
       "      <td>1.000000</td>\n",
       "      <td>5.467385</td>\n",
       "      <td>1.0</td>\n",
       "      <td>1.000000</td>\n",
       "      <td>2.890372</td>\n",
       "    </tr>\n",
       "    <tr>\n",
       "      <th>4</th>\n",
       "      <td>4</td>\n",
       "      <td>2020-12-16</td>\n",
       "      <td>1.000000</td>\n",
       "      <td>5.453995</td>\n",
       "      <td>1.0</td>\n",
       "      <td>1.000000</td>\n",
       "      <td>2.833213</td>\n",
       "    </tr>\n",
       "  </tbody>\n",
       "</table>\n",
       "</div>"
      ],
      "text/plain": [
       "   ID       Date        X1        X2   X3        X4        X5\n",
       "0   0 2020-12-16  1.685395  5.463917  1.0  7.389056  2.890372\n",
       "1   1 2020-12-16  1.488844  5.454936  1.0  7.389056  2.890372\n",
       "2   2 2020-12-16  1.164160  5.471136  1.0  1.000000  2.890372\n",
       "3   3 2020-12-16  1.000000  5.467385  1.0  1.000000  2.890372\n",
       "4   4 2020-12-16  1.000000  5.453995  1.0  1.000000  2.833213"
      ]
     },
     "execution_count": 6,
     "metadata": {},
     "output_type": "execute_result"
    }
   ],
   "source": [
    "tests.head()"
   ]
  },
  {
   "cell_type": "code",
   "execution_count": null,
   "metadata": {
    "execution": {
     "iopub.status.busy": "2025-04-09T21:15:50.897662Z",
     "iopub.status.idle": "2025-04-09T21:15:50.898005Z",
     "shell.execute_reply": "2025-04-09T21:15:50.897822Z"
    }
   },
   "outputs": [],
   "source": [
    "df.shape"
   ]
  },
  {
   "cell_type": "code",
   "execution_count": 14,
   "metadata": {
    "execution": {
     "iopub.execute_input": "2025-04-09T18:56:52.542511Z",
     "iopub.status.busy": "2025-04-09T18:56:52.542114Z",
     "iopub.status.idle": "2025-04-09T18:56:52.678177Z",
     "shell.execute_reply": "2025-04-09T18:56:52.676953Z",
     "shell.execute_reply.started": "2025-04-09T18:56:52.542479Z"
    }
   },
   "outputs": [
    {
     "name": "stdout",
     "output_type": "stream",
     "text": [
      "<class 'pandas.core.frame.DataFrame'>\n",
      "RangeIndex: 1639424 entries, 0 to 1639423\n",
      "Data columns (total 7 columns):\n",
      " #   Column  Non-Null Count    Dtype         \n",
      "---  ------  --------------    -----         \n",
      " 0   Date    1639424 non-null  datetime64[ns]\n",
      " 1   X1      1639424 non-null  float64       \n",
      " 2   X2      1639424 non-null  float64       \n",
      " 3   X3      1639424 non-null  float64       \n",
      " 4   X4      1639424 non-null  float64       \n",
      " 5   X5      1639424 non-null  float64       \n",
      " 6   target  1639424 non-null  object        \n",
      "dtypes: datetime64[ns](1), float64(5), object(1)\n",
      "memory usage: 87.6+ MB\n"
     ]
    }
   ],
   "source": [
    "df.info()\n",
    "# No null values"
   ]
  },
  {
   "cell_type": "code",
   "execution_count": 5,
   "metadata": {
    "execution": {
     "iopub.execute_input": "2025-04-09T22:33:36.553071Z",
     "iopub.status.busy": "2025-04-09T22:33:36.552674Z",
     "iopub.status.idle": "2025-04-09T22:33:36.649129Z",
     "shell.execute_reply": "2025-04-09T22:33:36.648086Z",
     "shell.execute_reply.started": "2025-04-09T22:33:36.553038Z"
    }
   },
   "outputs": [
    {
     "data": {
      "text/plain": [
       "target\n",
       "0    1625386\n",
       "1      14038\n",
       "Name: count, dtype: int64"
      ]
     },
     "execution_count": 5,
     "metadata": {},
     "output_type": "execute_result"
    }
   ],
   "source": [
    "df['target'].value_counts()"
   ]
  },
  {
   "cell_type": "code",
   "execution_count": 4,
   "metadata": {
    "execution": {
     "iopub.execute_input": "2025-04-10T00:41:58.498160Z",
     "iopub.status.busy": "2025-04-10T00:41:58.497828Z",
     "iopub.status.idle": "2025-04-10T00:41:59.190909Z",
     "shell.execute_reply": "2025-04-10T00:41:59.190054Z",
     "shell.execute_reply.started": "2025-04-10T00:41:58.498132Z"
    }
   },
   "outputs": [],
   "source": [
    "# Date and time split\n",
    "\n",
    "df['day'] = df['Date'].dt.day\n",
    "df['weekday'] = df['Date'].dt.weekday\n",
    "df['month'] = df['Date'].dt.month\n",
    "df['is_weekend'] = df['weekday'].apply(lambda x: 1 if x >= 5 else 0)\n",
    "\n"
   ]
  },
  {
   "cell_type": "code",
   "execution_count": 8,
   "metadata": {
    "execution": {
     "iopub.execute_input": "2025-04-09T21:16:51.781940Z",
     "iopub.status.busy": "2025-04-09T21:16:51.781623Z",
     "iopub.status.idle": "2025-04-09T21:16:51.794369Z",
     "shell.execute_reply": "2025-04-09T21:16:51.793640Z",
     "shell.execute_reply.started": "2025-04-09T21:16:51.781914Z"
    }
   },
   "outputs": [
    {
     "data": {
      "text/html": [
       "<div>\n",
       "<style scoped>\n",
       "    .dataframe tbody tr th:only-of-type {\n",
       "        vertical-align: middle;\n",
       "    }\n",
       "\n",
       "    .dataframe tbody tr th {\n",
       "        vertical-align: top;\n",
       "    }\n",
       "\n",
       "    .dataframe thead th {\n",
       "        text-align: right;\n",
       "    }\n",
       "</style>\n",
       "<table border=\"1\" class=\"dataframe\">\n",
       "  <thead>\n",
       "    <tr style=\"text-align: right;\">\n",
       "      <th></th>\n",
       "      <th>Date</th>\n",
       "      <th>X1</th>\n",
       "      <th>X2</th>\n",
       "      <th>X3</th>\n",
       "      <th>X4</th>\n",
       "      <th>X5</th>\n",
       "      <th>target</th>\n",
       "      <th>day</th>\n",
       "      <th>weekday</th>\n",
       "      <th>month</th>\n",
       "      <th>is_weekend</th>\n",
       "    </tr>\n",
       "  </thead>\n",
       "  <tbody>\n",
       "    <tr>\n",
       "      <th>0</th>\n",
       "      <td>2020-12-16</td>\n",
       "      <td>1.518921</td>\n",
       "      <td>5.463154</td>\n",
       "      <td>1.0</td>\n",
       "      <td>2.718282</td>\n",
       "      <td>2.890372</td>\n",
       "      <td>0</td>\n",
       "      <td>16</td>\n",
       "      <td>2</td>\n",
       "      <td>12</td>\n",
       "      <td>0</td>\n",
       "    </tr>\n",
       "    <tr>\n",
       "      <th>1</th>\n",
       "      <td>2020-12-16</td>\n",
       "      <td>1.546509</td>\n",
       "      <td>5.458010</td>\n",
       "      <td>1.0</td>\n",
       "      <td>2.718282</td>\n",
       "      <td>2.833213</td>\n",
       "      <td>1</td>\n",
       "      <td>16</td>\n",
       "      <td>2</td>\n",
       "      <td>12</td>\n",
       "      <td>0</td>\n",
       "    </tr>\n",
       "    <tr>\n",
       "      <th>2</th>\n",
       "      <td>2020-12-16</td>\n",
       "      <td>1.645427</td>\n",
       "      <td>5.456560</td>\n",
       "      <td>1.0</td>\n",
       "      <td>7.389056</td>\n",
       "      <td>2.890372</td>\n",
       "      <td>1</td>\n",
       "      <td>16</td>\n",
       "      <td>2</td>\n",
       "      <td>12</td>\n",
       "      <td>0</td>\n",
       "    </tr>\n",
       "    <tr>\n",
       "      <th>3</th>\n",
       "      <td>2020-12-16</td>\n",
       "      <td>1.652022</td>\n",
       "      <td>5.458479</td>\n",
       "      <td>1.0</td>\n",
       "      <td>2.718282</td>\n",
       "      <td>2.890372</td>\n",
       "      <td>1</td>\n",
       "      <td>16</td>\n",
       "      <td>2</td>\n",
       "      <td>12</td>\n",
       "      <td>0</td>\n",
       "    </tr>\n",
       "    <tr>\n",
       "      <th>4</th>\n",
       "      <td>2020-12-16</td>\n",
       "      <td>1.695538</td>\n",
       "      <td>5.466709</td>\n",
       "      <td>1.0</td>\n",
       "      <td>2.718282</td>\n",
       "      <td>2.890372</td>\n",
       "      <td>0</td>\n",
       "      <td>16</td>\n",
       "      <td>2</td>\n",
       "      <td>12</td>\n",
       "      <td>0</td>\n",
       "    </tr>\n",
       "  </tbody>\n",
       "</table>\n",
       "</div>"
      ],
      "text/plain": [
       "        Date        X1        X2   X3        X4        X5 target  day  \\\n",
       "0 2020-12-16  1.518921  5.463154  1.0  2.718282  2.890372      0   16   \n",
       "1 2020-12-16  1.546509  5.458010  1.0  2.718282  2.833213      1   16   \n",
       "2 2020-12-16  1.645427  5.456560  1.0  7.389056  2.890372      1   16   \n",
       "3 2020-12-16  1.652022  5.458479  1.0  2.718282  2.890372      1   16   \n",
       "4 2020-12-16  1.695538  5.466709  1.0  2.718282  2.890372      0   16   \n",
       "\n",
       "   weekday  month  is_weekend  \n",
       "0        2     12           0  \n",
       "1        2     12           0  \n",
       "2        2     12           0  \n",
       "3        2     12           0  \n",
       "4        2     12           0  "
      ]
     },
     "execution_count": 8,
     "metadata": {},
     "output_type": "execute_result"
    }
   ],
   "source": [
    "df.head()"
   ]
  },
  {
   "cell_type": "code",
   "execution_count": 28,
   "metadata": {
    "execution": {
     "iopub.execute_input": "2025-04-09T19:10:57.553718Z",
     "iopub.status.busy": "2025-04-09T19:10:57.553277Z",
     "iopub.status.idle": "2025-04-09T19:10:59.070999Z",
     "shell.execute_reply": "2025-04-09T19:10:59.069565Z",
     "shell.execute_reply.started": "2025-04-09T19:10:57.553687Z"
    }
   },
   "outputs": [
    {
     "data": {
      "image/png": "[encoded data removed]",
      "text/plain": [
       "<Figure size 1000x600 with 2 Axes>"
      ]
     },
     "metadata": {},
     "output_type": "display_data"
    }
   ],
   "source": [
    "# Correlation Heatmap\n",
    "plt.figure(figsize=(10, 6))\n",
    "sns.heatmap(df.drop(columns='Date').corr(), annot=True, cmap='coolwarm', fmt=\".2f\")\n",
    "plt.title('Feature Correlation Matrix')\n",
    "plt.show()"
   ]
  },
  {
   "cell_type": "code",
   "execution_count": null,
   "metadata": {},
   "outputs": [],
   "source": []
  },
  {
   "cell_type": "code",
   "execution_count": 8,
   "metadata": {
    "execution": {
     "iopub.execute_input": "2025-04-09T20:08:41.224171Z",
     "iopub.status.busy": "2025-04-09T20:08:41.223740Z",
     "iopub.status.idle": "2025-04-09T20:08:41.228703Z",
     "shell.execute_reply": "2025-04-09T20:08:41.227659Z",
     "shell.execute_reply.started": "2025-04-09T20:08:41.224113Z"
    }
   },
   "outputs": [],
   "source": [
    "import warnings\n",
    "warnings.filterwarnings(\"ignore\")"
   ]
  },
  {
   "cell_type": "code",
   "execution_count": 32,
   "metadata": {
    "execution": {
     "iopub.execute_input": "2025-04-09T19:14:23.042775Z",
     "iopub.status.busy": "2025-04-09T19:14:23.042353Z",
     "iopub.status.idle": "2025-04-09T19:14:27.942374Z",
     "shell.execute_reply": "2025-04-09T19:14:27.941302Z",
     "shell.execute_reply.started": "2025-04-09T19:14:23.042745Z"
    }
   },
   "outputs": [
    {
     "data": {
      "image/png": "[encoded data removed]",
      "text/plain": [
       "<Figure size 600x300 with 1 Axes>"
      ]
     },
     "metadata": {},
     "output_type": "display_data"
    },
    {
     "data": {
      "image/png": "[encoded data removed]",
      "text/plain": [
       "<Figure size 600x300 with 1 Axes>"
      ]
     },
     "metadata": {},
     "output_type": "display_data"
    },
    {
     "data": {
      "image/png": "[encoded data removed]",
      "text/plain": [
       "<Figure size 600x300 with 1 Axes>"
      ]
     },
     "metadata": {},
     "output_type": "display_data"
    },
    {
     "data": {
      "image/png": "[encoded data removed]",
      "text/plain": [
       "<Figure size 600x300 with 1 Axes>"
      ]
     },
     "metadata": {},
     "output_type": "display_data"
    },
    {
     "data": {
      "image/png": "[encoded data removed]",
      "text/plain": [
       "<Figure size 600x300 with 1 Axes>"
      ]
     },
     "metadata": {},
     "output_type": "display_data"
    }
   ],
   "source": [
    "# Finding Outliers\n",
    "for feature in features:\n",
    "    plt.figure(figsize=(6,3))\n",
    "    sns.boxplot(x='target', y=feature, data=df)\n",
    "    plt.title(f'{feature} Boxplot by Target')\n",
    "    plt.show()\n"
   ]
  },
  {
   "cell_type": "code",
   "execution_count": 5,
   "metadata": {
    "execution": {
     "iopub.execute_input": "2025-04-10T00:42:16.196181Z",
     "iopub.status.busy": "2025-04-10T00:42:16.195903Z",
     "iopub.status.idle": "2025-04-10T00:42:16.268918Z",
     "shell.execute_reply": "2025-04-10T00:42:16.268280Z",
     "shell.execute_reply.started": "2025-04-10T00:42:16.196160Z"
    }
   },
   "outputs": [],
   "source": [
    "df = df.drop(\"Date\",axis = 1)"
   ]
  },
  {
   "cell_type": "code",
   "execution_count": 6,
   "metadata": {
    "execution": {
     "iopub.execute_input": "2025-04-10T00:42:17.182102Z",
     "iopub.status.busy": "2025-04-10T00:42:17.181817Z",
     "iopub.status.idle": "2025-04-10T00:42:17.533466Z",
     "shell.execute_reply": "2025-04-10T00:42:17.532772Z",
     "shell.execute_reply.started": "2025-04-10T00:42:17.182079Z"
    }
   },
   "outputs": [],
   "source": [
    "\n",
    "from sklearn.preprocessing import RobustScaler\n",
    "\n",
    "scaler = RobustScaler()\n",
    "df[['X1', 'X2', 'X3', 'X4', 'X5']] = scaler.fit_transform(df[['X1', 'X2', 'X3', 'X4', 'X5']])"
   ]
  },
  {
   "cell_type": "code",
   "execution_count": null,
   "metadata": {},
   "outputs": [],
   "source": []
  },
  {
   "cell_type": "code",
   "execution_count": 53,
   "metadata": {
    "execution": {
     "iopub.execute_input": "2025-04-09T19:45:00.602058Z",
     "iopub.status.busy": "2025-04-09T19:45:00.601717Z",
     "iopub.status.idle": "2025-04-09T19:45:02.090777Z",
     "shell.execute_reply": "2025-04-09T19:45:02.089526Z",
     "shell.execute_reply.started": "2025-04-09T19:45:00.602031Z"
    }
   },
   "outputs": [
    {
     "data": {
      "image/png": "[encoded data removed]",
      "text/plain": [
       "<Figure size 1000x600 with 2 Axes>"
      ]
     },
     "metadata": {},
     "output_type": "display_data"
    }
   ],
   "source": [
    "plt.figure(figsize=(10, 6))\n",
    "sns.heatmap(df.corr(), annot=True, cmap='coolwarm', fmt=\".2f\")\n",
    "plt.title('Feature Correlation Matrix after scaling')\n",
    "plt.show()"
   ]
  },
  {
   "cell_type": "code",
   "execution_count": null,
   "metadata": {},
   "outputs": [],
   "source": []
  },
  {
   "cell_type": "code",
   "execution_count": null,
   "metadata": {},
   "outputs": [],
   "source": []
  },
  {
   "cell_type": "code",
   "execution_count": 7,
   "metadata": {
    "execution": {
     "iopub.execute_input": "2025-04-10T00:42:23.040536Z",
     "iopub.status.busy": "2025-04-10T00:42:23.040104Z",
     "iopub.status.idle": "2025-04-10T00:42:23.115215Z",
     "shell.execute_reply": "2025-04-10T00:42:23.114444Z",
     "shell.execute_reply.started": "2025-04-10T00:42:23.040499Z"
    }
   },
   "outputs": [],
   "source": [
    "X = df.drop('target',axis = 1)\n",
    "y = df['target']\n"
   ]
  },
  {
   "cell_type": "markdown",
   "metadata": {},
   "source": [
    "# Model building and hyperparameter tuning\n"
   ]
  },
  {
   "cell_type": "code",
   "execution_count": 8,
   "metadata": {
    "execution": {
     "iopub.execute_input": "2025-04-10T00:42:24.975284Z",
     "iopub.status.busy": "2025-04-10T00:42:24.974959Z",
     "iopub.status.idle": "2025-04-10T00:42:25.396521Z",
     "shell.execute_reply": "2025-04-10T00:42:25.395608Z",
     "shell.execute_reply.started": "2025-04-10T00:42:24.975257Z"
    }
   },
   "outputs": [],
   "source": [
    "from sklearn.model_selection import train_test_split, RandomizedSearchCV\n",
    "from sklearn.metrics import classification_report, confusion_matrix,accuracy_score,f1_score\n",
    "from sklearn.linear_model import LogisticRegression\n",
    "from sklearn.svm import SVC\n",
    "from sklearn.neighbors import KNeighborsClassifier\n",
    "from sklearn.tree import DecisionTreeClassifier\n",
    "from sklearn.ensemble import RandomForestClassifier\n",
    "from sklearn.utils import class_weight"
   ]
  },
  {
   "cell_type": "code",
   "execution_count": 11,
   "metadata": {
    "execution": {
     "iopub.execute_input": "2025-04-10T00:42:43.486802Z",
     "iopub.status.busy": "2025-04-10T00:42:43.486504Z",
     "iopub.status.idle": "2025-04-10T00:42:45.101858Z",
     "shell.execute_reply": "2025-04-10T00:42:45.101132Z",
     "shell.execute_reply.started": "2025-04-10T00:42:43.486777Z"
    }
   },
   "outputs": [],
   "source": [
    "X_train, X_val, y_train, y_val = train_test_split(X, y, test_size=0.2, stratify=y, random_state=42)"
   ]
  },
  {
   "cell_type": "code",
   "execution_count": 12,
   "metadata": {
    "execution": {
     "iopub.execute_input": "2025-04-10T00:42:47.398613Z",
     "iopub.status.busy": "2025-04-10T00:42:47.398293Z",
     "iopub.status.idle": "2025-04-10T00:42:47.516498Z",
     "shell.execute_reply": "2025-04-10T00:42:47.515642Z",
     "shell.execute_reply.started": "2025-04-10T00:42:47.398585Z"
    }
   },
   "outputs": [],
   "source": [
    "y_train = y_train.astype(int)\n",
    "y_val = y_val.astype(int)"
   ]
  },
  {
   "cell_type": "code",
   "execution_count": 13,
   "metadata": {
    "execution": {
     "iopub.execute_input": "2025-04-10T00:42:49.657770Z",
     "iopub.status.busy": "2025-04-10T00:42:49.657507Z",
     "iopub.status.idle": "2025-04-10T00:42:50.822249Z",
     "shell.execute_reply": "2025-04-10T00:42:50.821626Z",
     "shell.execute_reply.started": "2025-04-10T00:42:49.657751Z"
    }
   },
   "outputs": [],
   "source": [
    "# over samping to baance the data set\n",
    "from imblearn.over_sampling import SMOTE\n",
    "\n",
    "smote = SMOTE(random_state=42)\n",
    "X_resampled, y_resampled = smote.fit_resample(X_train, y_train)"
   ]
  },
  {
   "cell_type": "code",
   "execution_count": 14,
   "metadata": {
    "execution": {
     "iopub.execute_input": "2025-04-10T00:42:53.889791Z",
     "iopub.status.busy": "2025-04-10T00:42:53.889383Z",
     "iopub.status.idle": "2025-04-10T00:42:53.914516Z",
     "shell.execute_reply": "2025-04-10T00:42:53.913511Z",
     "shell.execute_reply.started": "2025-04-10T00:42:53.889769Z"
    }
   },
   "outputs": [
    {
     "data": {
      "text/plain": [
       "target\n",
       "0    1300309\n",
       "1    1300309\n",
       "Name: count, dtype: int64"
      ]
     },
     "execution_count": 14,
     "metadata": {},
     "output_type": "execute_result"
    }
   ],
   "source": [
    "y_resampled.value_counts()"
   ]
  },
  {
   "cell_type": "code",
   "execution_count": 22,
   "metadata": {
    "execution": {
     "iopub.execute_input": "2025-04-09T21:23:59.247679Z",
     "iopub.status.busy": "2025-04-09T21:23:59.247395Z",
     "iopub.status.idle": "2025-04-09T21:24:02.503555Z",
     "shell.execute_reply": "2025-04-09T21:24:02.502682Z",
     "shell.execute_reply.started": "2025-04-09T21:23:59.247656Z"
    }
   },
   "outputs": [
    {
     "name": "stderr",
     "output_type": "stream",
     "text": [
      "/usr/local/lib/python3.10/dist-packages/sklearn/linear_model/_logistic.py:458: ConvergenceWarning: lbfgs failed to converge (status=2):\n",
      "ABNORMAL_TERMINATION_IN_LNSRCH.\n",
      "\n",
      "Increase the number of iterations (max_iter) or scale the data as shown in:\n",
      "    https://scikit-learn.org/stable/modules/preprocessing.html\n",
      "Please also refer to the documentation for alternative solver options:\n",
      "    https://scikit-learn.org/stable/modules/linear_model.html#logistic-regression\n",
      "  n_iter_i = _check_optimize_result(\n"
     ]
    },
    {
     "name": "stdout",
     "output_type": "stream",
     "text": [
      "Accuracy: 0.9914360217759275\n",
      "F1 Score: 0.0\n",
      "Confusion Matrix:\n",
      " [[325077      0]\n",
      " [  2808      0]]\n"
     ]
    },
    {
     "name": "stderr",
     "output_type": "stream",
     "text": [
      "/usr/local/lib/python3.10/dist-packages/sklearn/metrics/_classification.py:1344: UndefinedMetricWarning: Precision and F-score are ill-defined and being set to 0.0 in labels with no predicted samples. Use `zero_division` parameter to control this behavior.\n",
      "  _warn_prf(average, modifier, msg_start, len(result))\n"
     ]
    },
    {
     "name": "stdout",
     "output_type": "stream",
     "text": [
      "Classification Report:\n",
      "               precision    recall  f1-score   support\n",
      "\n",
      "           0       0.99      1.00      1.00    325077\n",
      "           1       0.00      0.00      0.00      2808\n",
      "\n",
      "    accuracy                           0.99    327885\n",
      "   macro avg       0.50      0.50      0.50    327885\n",
      "weighted avg       0.98      0.99      0.99    327885\n",
      "\n"
     ]
    },
    {
     "name": "stderr",
     "output_type": "stream",
     "text": [
      "/usr/local/lib/python3.10/dist-packages/sklearn/metrics/_classification.py:1344: UndefinedMetricWarning: Precision and F-score are ill-defined and being set to 0.0 in labels with no predicted samples. Use `zero_division` parameter to control this behavior.\n",
      "  _warn_prf(average, modifier, msg_start, len(result))\n",
      "/usr/local/lib/python3.10/dist-packages/sklearn/metrics/_classification.py:1344: UndefinedMetricWarning: Precision and F-score are ill-defined and being set to 0.0 in labels with no predicted samples. Use `zero_division` parameter to control this behavior.\n",
      "  _warn_prf(average, modifier, msg_start, len(result))\n"
     ]
    }
   ],
   "source": [
    "lr = LogisticRegression(class_weight='balanced',max_iter=4000)\n",
    "lr.fit(X_resampled, y_resampled)\n",
    "y_pred = lr.predict(X_val)\n",
    "print(\"Accuracy:\", accuracy_score(y_val, y_pred))\n",
    "print(\"F1 Score:\", f1_score(y_val, y_pred))\n",
    "print(\"Confusion Matrix:\\n\", confusion_matrix(y_val, y_pred))\n",
    "print(\"Classification Report:\\n\", classification_report(y_val, y_pred))\n"
   ]
  },
  {
   "cell_type": "code",
   "execution_count": null,
   "metadata": {},
   "outputs": [],
   "source": [
    "svc = SVC()\n",
    "svc.fit(X_resampled, y_resampled)\n",
    "y_pred = svc.predict(X_val)\n",
    "print(\"Accuracy:\", accuracy_score(y_val, y_pred))\n",
    "print(\"F1 Score:\", f1_score(y_val, y_pred))\n",
    "print(\"Confusion Matrix:\\n\", confusion_matrix(y_val, y_pred))\n",
    "print(\"Classification Report:\\n\", classification_report(y_val, y_pred))\n"
   ]
  },
  {
   "cell_type": "code",
   "execution_count": null,
   "metadata": {
    "execution": {
     "execution_failed": "2025-04-09T20:08:00.186Z"
    }
   },
   "outputs": [],
   "source": []
  },
  {
   "cell_type": "code",
   "execution_count": 24,
   "metadata": {
    "execution": {
     "iopub.execute_input": "2025-04-09T21:24:40.698509Z",
     "iopub.status.busy": "2025-04-09T21:24:40.698189Z",
     "iopub.status.idle": "2025-04-09T21:25:26.197598Z",
     "shell.execute_reply": "2025-04-09T21:25:26.196872Z",
     "shell.execute_reply.started": "2025-04-09T21:24:40.698481Z"
    }
   },
   "outputs": [
    {
     "name": "stdout",
     "output_type": "stream",
     "text": [
      "Accuracy: 0.986952742577428\n",
      "F1 Score: 0.5287508261731659\n",
      "Confusion Matrix:\n",
      " [[321207   3870]\n",
      " [   408   2400]]\n",
      "Classification Report:\n",
      "               precision    recall  f1-score   support\n",
      "\n",
      "           0       1.00      0.99      0.99    325077\n",
      "           1       0.38      0.85      0.53      2808\n",
      "\n",
      "    accuracy                           0.99    327885\n",
      "   macro avg       0.69      0.92      0.76    327885\n",
      "weighted avg       0.99      0.99      0.99    327885\n",
      "\n"
     ]
    }
   ],
   "source": [
    "# knn\n",
    "\n",
    "knn_model = KNeighborsClassifier()\n",
    "knn_model.fit(X_resampled, y_resampled)\n",
    "\n",
    "y_pred = knn_model.predict(X_val)\n",
    "\n",
    "print(\"Accuracy:\", accuracy_score(y_val, y_pred))\n",
    "print(\"F1 Score:\", f1_score(y_val, y_pred))\n",
    "print(\"Confusion Matrix:\\n\", confusion_matrix(y_val, y_pred))\n",
    "print(\"Classification Report:\\n\", classification_report(y_val, y_pred))"
   ]
  },
  {
   "cell_type": "code",
   "execution_count": 26,
   "metadata": {
    "execution": {
     "iopub.execute_input": "2025-04-09T21:26:40.308653Z",
     "iopub.status.busy": "2025-04-09T21:26:40.308337Z",
     "iopub.status.idle": "2025-04-09T21:26:57.934785Z",
     "shell.execute_reply": "2025-04-09T21:26:57.934005Z",
     "shell.execute_reply.started": "2025-04-09T21:26:40.308615Z"
    }
   },
   "outputs": [
    {
     "name": "stdout",
     "output_type": "stream",
     "text": [
      "Decision Tree:\n",
      "Accuracy: 0.9920307424859326\n",
      "F1 Score: 0.610174548709533\n",
      "Confusion Matrix:\n",
      " [[323227   1850]\n",
      " [   763   2045]]\n",
      "Classification Report:\n",
      "               precision    recall  f1-score   support\n",
      "\n",
      "           0       1.00      0.99      1.00    325077\n",
      "           1       0.53      0.73      0.61      2808\n",
      "\n",
      "    accuracy                           0.99    327885\n",
      "   macro avg       0.76      0.86      0.80    327885\n",
      "weighted avg       0.99      0.99      0.99    327885\n",
      "\n"
     ]
    }
   ],
   "source": [
    "# DT \n",
    "tree_model = DecisionTreeClassifier(random_state=42)\n",
    "tree_model.fit(X_resampled, y_resampled)\n",
    "\n",
    "y_pred = tree_model.predict(X_val)\n",
    "\n",
    "print(\"Decision Tree:\")\n",
    "print(\"Accuracy:\", accuracy_score(y_val, y_pred))\n",
    "print(\"F1 Score:\", f1_score(y_val, y_pred))\n",
    "print(\"Confusion Matrix:\\n\", confusion_matrix(y_val, y_pred))\n",
    "print(\"Classification Report:\\n\", classification_report(y_val, y_pred))\n"
   ]
  },
  {
   "cell_type": "markdown",
   "metadata": {},
   "source": [
    "* random forest has better performace thant others so hyper parameter tuning can hepl it perform better"
   ]
  },
  {
   "cell_type": "code",
   "execution_count": 17,
   "metadata": {
    "execution": {
     "iopub.execute_input": "2025-04-10T00:59:19.081576Z",
     "iopub.status.busy": "2025-04-10T00:59:19.081323Z",
     "iopub.status.idle": "2025-04-10T01:04:07.953939Z",
     "shell.execute_reply": "2025-04-10T01:04:07.953166Z",
     "shell.execute_reply.started": "2025-04-10T00:59:19.081555Z"
    }
   },
   "outputs": [
    {
     "name": "stderr",
     "output_type": "stream",
     "text": [
      "/usr/local/lib/python3.10/dist-packages/keras/src/layers/core/dense.py:87: UserWarning: Do not pass an `input_shape`/`input_dim` argument to a layer. When using Sequential models, prefer using an `Input(shape)` object as the first layer in the model instead.\n",
      "  super().__init__(activity_regularizer=activity_regularizer, **kwargs)\n"
     ]
    },
    {
     "name": "stdout",
     "output_type": "stream",
     "text": [
      "Epoch 1/50\n",
      "\u001b[1m5780/5780\u001b[0m \u001b[32m━━━━━━━━━━━━━━━━━━━━\u001b[0m\u001b[37m\u001b[0m \u001b[1m18s\u001b[0m 2ms/step - accuracy: 0.8494 - loss: 0.3436 - val_accuracy: 0.8769 - val_loss: 0.2769\n",
      "Epoch 2/50\n",
      "\u001b[1m5780/5780\u001b[0m \u001b[32m━━━━━━━━━━━━━━━━━━━━\u001b[0m\u001b[37m\u001b[0m \u001b[1m10s\u001b[0m 2ms/step - accuracy: 0.8952 - loss: 0.2583 - val_accuracy: 0.8783 - val_loss: 0.2716\n",
      "Epoch 3/50\n",
      "\u001b[1m5780/5780\u001b[0m \u001b[32m━━━━━━━━━━━━━━━━━━━━\u001b[0m\u001b[37m\u001b[0m \u001b[1m10s\u001b[0m 2ms/step - accuracy: 0.9004 - loss: 0.2452 - val_accuracy: 0.8833 - val_loss: 0.2569\n",
      "Epoch 4/50\n",
      "\u001b[1m5780/5780\u001b[0m \u001b[32m━━━━━━━━━━━━━━━━━━━━\u001b[0m\u001b[37m\u001b[0m \u001b[1m10s\u001b[0m 2ms/step - accuracy: 0.9030 - loss: 0.2381 - val_accuracy: 0.8845 - val_loss: 0.2527\n",
      "Epoch 5/50\n",
      "\u001b[1m5780/5780\u001b[0m \u001b[32m━━━━━━━━━━━━━━━━━━━━\u001b[0m\u001b[37m\u001b[0m \u001b[1m10s\u001b[0m 2ms/step - accuracy: 0.9053 - loss: 0.2319 - val_accuracy: 0.8848 - val_loss: 0.2500\n",
      "Epoch 6/50\n",
      "\u001b[1m5780/5780\u001b[0m \u001b[32m━━━━━━━━━━━━━━━━━━━━\u001b[0m\u001b[37m\u001b[0m \u001b[1m10s\u001b[0m 2ms/step - accuracy: 0.9065 - loss: 0.2285 - val_accuracy: 0.8887 - val_loss: 0.2388\n",
      "Epoch 7/50\n",
      "\u001b[1m5780/5780\u001b[0m \u001b[32m━━━━━━━━━━━━━━━━━━━━\u001b[0m\u001b[37m\u001b[0m \u001b[1m10s\u001b[0m 2ms/step - accuracy: 0.9080 - loss: 0.2250 - val_accuracy: 0.8886 - val_loss: 0.2409\n",
      "Epoch 8/50\n",
      "\u001b[1m5780/5780\u001b[0m \u001b[32m━━━━━━━━━━━━━━━━━━━━\u001b[0m\u001b[37m\u001b[0m \u001b[1m10s\u001b[0m 2ms/step - accuracy: 0.9091 - loss: 0.2219 - val_accuracy: 0.8881 - val_loss: 0.2368\n",
      "Epoch 9/50\n",
      "\u001b[1m5780/5780\u001b[0m \u001b[32m━━━━━━━━━━━━━━━━━━━━\u001b[0m\u001b[37m\u001b[0m \u001b[1m10s\u001b[0m 2ms/step - accuracy: 0.9098 - loss: 0.2201 - val_accuracy: 0.8894 - val_loss: 0.2365\n",
      "Epoch 10/50\n",
      "\u001b[1m5780/5780\u001b[0m \u001b[32m━━━━━━━━━━━━━━━━━━━━\u001b[0m\u001b[37m\u001b[0m \u001b[1m10s\u001b[0m 2ms/step - accuracy: 0.9105 - loss: 0.2185 - val_accuracy: 0.8895 - val_loss: 0.2335\n",
      "Epoch 11/50\n",
      "\u001b[1m5780/5780\u001b[0m \u001b[32m━━━━━━━━━━━━━━━━━━━━\u001b[0m\u001b[37m\u001b[0m \u001b[1m10s\u001b[0m 2ms/step - accuracy: 0.9113 - loss: 0.2169 - val_accuracy: 0.8909 - val_loss: 0.2302\n",
      "Epoch 12/50\n",
      "\u001b[1m5780/5780\u001b[0m \u001b[32m━━━━━━━━━━━━━━━━━━━━\u001b[0m\u001b[37m\u001b[0m \u001b[1m10s\u001b[0m 2ms/step - accuracy: 0.9121 - loss: 0.2152 - val_accuracy: 0.8893 - val_loss: 0.2356\n",
      "Epoch 13/50\n",
      "\u001b[1m5780/5780\u001b[0m \u001b[32m━━━━━━━━━━━━━━━━━━━━\u001b[0m\u001b[37m\u001b[0m \u001b[1m11s\u001b[0m 2ms/step - accuracy: 0.9124 - loss: 0.2145 - val_accuracy: 0.8898 - val_loss: 0.2356\n",
      "Epoch 14/50\n",
      "\u001b[1m5780/5780\u001b[0m \u001b[32m━━━━━━━━━━━━━━━━━━━━\u001b[0m\u001b[37m\u001b[0m \u001b[1m10s\u001b[0m 2ms/step - accuracy: 0.9132 - loss: 0.2132 - val_accuracy: 0.8903 - val_loss: 0.2362\n",
      "Epoch 15/50\n",
      "\u001b[1m5780/5780\u001b[0m \u001b[32m━━━━━━━━━━━━━━━━━━━━\u001b[0m\u001b[37m\u001b[0m \u001b[1m10s\u001b[0m 2ms/step - accuracy: 0.9137 - loss: 0.2114 - val_accuracy: 0.8921 - val_loss: 0.2283\n",
      "Epoch 16/50\n",
      "\u001b[1m5780/5780\u001b[0m \u001b[32m━━━━━━━━━━━━━━━━━━━━\u001b[0m\u001b[37m\u001b[0m \u001b[1m10s\u001b[0m 2ms/step - accuracy: 0.9137 - loss: 0.2110 - val_accuracy: 0.8888 - val_loss: 0.2356\n",
      "Epoch 17/50\n",
      "\u001b[1m5780/5780\u001b[0m \u001b[32m━━━━━━━━━━━━━━━━━━━━\u001b[0m\u001b[37m\u001b[0m \u001b[1m10s\u001b[0m 2ms/step - accuracy: 0.9148 - loss: 0.2094 - val_accuracy: 0.8889 - val_loss: 0.2361\n",
      "Epoch 18/50\n",
      "\u001b[1m5780/5780\u001b[0m \u001b[32m━━━━━━━━━━━━━━━━━━━━\u001b[0m\u001b[37m\u001b[0m \u001b[1m10s\u001b[0m 2ms/step - accuracy: 0.9152 - loss: 0.2085 - val_accuracy: 0.8945 - val_loss: 0.2237\n",
      "Epoch 19/50\n",
      "\u001b[1m5780/5780\u001b[0m \u001b[32m━━━━━━━━━━━━━━━━━━━━\u001b[0m\u001b[37m\u001b[0m \u001b[1m10s\u001b[0m 2ms/step - accuracy: 0.9154 - loss: 0.2078 - val_accuracy: 0.8966 - val_loss: 0.2193\n",
      "Epoch 20/50\n",
      "\u001b[1m5780/5780\u001b[0m \u001b[32m━━━━━━━━━━━━━━━━━━━━\u001b[0m\u001b[37m\u001b[0m \u001b[1m10s\u001b[0m 2ms/step - accuracy: 0.9157 - loss: 0.2073 - val_accuracy: 0.8915 - val_loss: 0.2321\n",
      "Epoch 21/50\n",
      "\u001b[1m5780/5780\u001b[0m \u001b[32m━━━━━━━━━━━━━━━━━━━━\u001b[0m\u001b[37m\u001b[0m \u001b[1m10s\u001b[0m 2ms/step - accuracy: 0.9161 - loss: 0.2061 - val_accuracy: 0.8873 - val_loss: 0.2407\n",
      "Epoch 22/50\n",
      "\u001b[1m5780/5780\u001b[0m \u001b[32m━━━━━━━━━━━━━━━━━━━━\u001b[0m\u001b[37m\u001b[0m \u001b[1m10s\u001b[0m 2ms/step - accuracy: 0.9162 - loss: 0.2057 - val_accuracy: 0.8945 - val_loss: 0.2258\n",
      "Epoch 23/50\n",
      "\u001b[1m5780/5780\u001b[0m \u001b[32m━━━━━━━━━━━━━━━━━━━━\u001b[0m\u001b[37m\u001b[0m \u001b[1m10s\u001b[0m 2ms/step - accuracy: 0.9166 - loss: 0.2048 - val_accuracy: 0.8928 - val_loss: 0.2280\n",
      "Epoch 24/50\n",
      "\u001b[1m5780/5780\u001b[0m \u001b[32m━━━━━━━━━━━━━━━━━━━━\u001b[0m\u001b[37m\u001b[0m \u001b[1m10s\u001b[0m 2ms/step - accuracy: 0.9170 - loss: 0.2041 - val_accuracy: 0.8954 - val_loss: 0.2223\n",
      "\u001b[1m10247/10247\u001b[0m \u001b[32m━━━━━━━━━━━━━━━━━━━━\u001b[0m\u001b[37m\u001b[0m \u001b[1m12s\u001b[0m 1ms/step\n",
      "ANN Model Evaluation:\n",
      "Accuracy: 0.8965734937554325\n",
      "F1 Score: 0.13153042409342347\n",
      "Confusion Matrix:\n",
      " [[291405  33672]\n",
      " [   240   2568]]\n",
      "Classification Report:\n",
      "               precision    recall  f1-score   support\n",
      "\n",
      "           0       1.00      0.90      0.95    325077\n",
      "           1       0.07      0.91      0.13      2808\n",
      "\n",
      "    accuracy                           0.90    327885\n",
      "   macro avg       0.54      0.91      0.54    327885\n",
      "weighted avg       0.99      0.90      0.94    327885\n",
      "\n"
     ]
    }
   ],
   "source": [
    "from tensorflow.keras.models import Sequential\n",
    "from tensorflow.keras.layers import Dense, Dropout, BatchNormalization\n",
    "from tensorflow.keras.optimizers import Adam\n",
    "from tensorflow.keras.callbacks import EarlyStopping\n",
    "from sklearn.preprocessing import StandardScaler\n",
    "from sklearn.metrics import f1_score, accuracy_score, confusion_matrix, classification_report\n",
    "import numpy as np\n",
    "\n",
    "# Scaling the data\n",
    "scaler = StandardScaler()\n",
    "X_resampled = scaler.fit_transform(X_resampled)\n",
    "X_val = scaler.transform(X_val)\n",
    "\n",
    "# Define the model\n",
    "model = Sequential([\n",
    "    Dense(128, activation='relu', input_shape=(X_resampled.shape[1],)),\n",
    "    BatchNormalization(),\n",
    "    Dropout(0.3),\n",
    "    \n",
    "    Dense(64, activation='relu'),\n",
    "    BatchNormalization(),\n",
    "    Dropout(0.3),\n",
    "    \n",
    "    Dense(32, activation='relu'),\n",
    "    Dense(1, activation='sigmoid')  # Binary output\n",
    "])\n",
    "\n",
    "# Compile the model\n",
    "model.compile(\n",
    "    optimizer=Adam(learning_rate=0.0001),\n",
    "    loss='binary_crossentropy',\n",
    "    metrics=['accuracy']\n",
    ")\n",
    "\n",
    "# Callbacks\n",
    "early_stop = EarlyStopping(monitor='val_loss', patience=5, restore_best_weights=True)\n",
    "\n",
    "# Train model with batch gradient descent\n",
    "history = model.fit(\n",
    "    X_resampled, y_resampled,\n",
    "    validation_data=(X_val, y_val),\n",
    "    epochs=50,\n",
    "    batch_size=450,\n",
    "    callbacks=[early_stop],\n",
    "    verbose=1\n",
    ")\n",
    "\n",
    "# Evaluation\n",
    "y_pred = model.predict(X_val)\n",
    "y_pred_binary = (y_pred > 0.5).astype(\"int32\")\n",
    "\n",
    "print(\"ANN Model Evaluation:\")\n",
    "print(\"Accuracy:\", accuracy_score(y_val, y_pred_binary))\n",
    "print(\"F1 Score:\", f1_score(y_val, y_pred_binary))\n",
    "print(\"Confusion Matrix:\\n\", confusion_matrix(y_val, y_pred_binary))\n",
    "print(\"Classification Report:\\n\", classification_report(y_val, y_pred_binary))\n"
   ]
  },
  {
   "cell_type": "code",
   "execution_count": null,
   "metadata": {},
   "outputs": [],
   "source": [
    "\n"
   ]
  },
  {
   "cell_type": "code",
   "execution_count": 29,
   "metadata": {
    "collapsed": true,
    "execution": {
     "iopub.execute_input": "2025-04-09T22:25:20.053727Z",
     "iopub.status.busy": "2025-04-09T22:25:20.053410Z",
     "iopub.status.idle": "2025-04-09T22:27:21.755951Z",
     "shell.execute_reply": "2025-04-09T22:27:21.754490Z",
     "shell.execute_reply.started": "2025-04-09T22:25:20.053699Z"
    },
    "jupyter": {
     "outputs_hidden": true
    }
   },
   "outputs": [
    {
     "name": "stdout",
     "output_type": "stream",
     "text": [
      "Fitting 5 folds for each of 20 candidates, totalling 100 fits\n"
     ]
    },
    {
     "ename": "KeyboardInterrupt",
     "evalue": "",
     "output_type": "error",
     "traceback": [
      "\u001b[0;31m---------------------------------------------------------------------------\u001b[0m",
      "\u001b[0;31mKeyboardInterrupt\u001b[0m                         Traceback (most recent call last)",
      "\u001b[0;32m<ipython-input-29-aa07e33790a3>\u001b[0m in \u001b[0;36m<cell line: 31>\u001b[0;34m()\u001b[0m\n\u001b[1;32m     29\u001b[0m \u001b[0;34m\u001b[0m\u001b[0m\n\u001b[1;32m     30\u001b[0m \u001b[0;31m# Fit to resampled data (imbalanced solved)\u001b[0m\u001b[0;34m\u001b[0m\u001b[0;34m\u001b[0m\u001b[0m\n\u001b[0;32m---> 31\u001b[0;31m \u001b[0mrandom_search\u001b[0m\u001b[0;34m.\u001b[0m\u001b[0mfit\u001b[0m\u001b[0;34m(\u001b[0m\u001b[0mX_resampled\u001b[0m\u001b[0;34m,\u001b[0m \u001b[0my_resampled\u001b[0m\u001b[0;34m)\u001b[0m\u001b[0;34m\u001b[0m\u001b[0;34m\u001b[0m\u001b[0m\n\u001b[0m\u001b[1;32m     32\u001b[0m \u001b[0;34m\u001b[0m\u001b[0m\n\u001b[1;32m     33\u001b[0m \u001b[0;31m# Best model\u001b[0m\u001b[0;34m\u001b[0m\u001b[0;34m\u001b[0m\u001b[0m\n",
      "\u001b[0;32m/usr/local/lib/python3.10/dist-packages/sklearn/model_selection/_search.py\u001b[0m in \u001b[0;36mfit\u001b[0;34m(self, X, y, groups, **fit_params)\u001b[0m\n\u001b[1;32m    872\u001b[0m                 \u001b[0;32mreturn\u001b[0m \u001b[0mresults\u001b[0m\u001b[0;34m\u001b[0m\u001b[0;34m\u001b[0m\u001b[0m\n\u001b[1;32m    873\u001b[0m \u001b[0;34m\u001b[0m\u001b[0m\n\u001b[0;32m--> 874\u001b[0;31m             \u001b[0mself\u001b[0m\u001b[0;34m.\u001b[0m\u001b[0m_run_search\u001b[0m\u001b[0;34m(\u001b[0m\u001b[0mevaluate_candidates\u001b[0m\u001b[0;34m)\u001b[0m\u001b[0;34m\u001b[0m\u001b[0;34m\u001b[0m\u001b[0m\n\u001b[0m\u001b[1;32m    875\u001b[0m \u001b[0;34m\u001b[0m\u001b[0m\n\u001b[1;32m    876\u001b[0m             \u001b[0;31m# multimetric is determined here because in the case of a callable\u001b[0m\u001b[0;34m\u001b[0m\u001b[0;34m\u001b[0m\u001b[0m\n",
      "\u001b[0;32m/usr/local/lib/python3.10/dist-packages/sklearn/model_selection/_search.py\u001b[0m in \u001b[0;36m_run_search\u001b[0;34m(self, evaluate_candidates)\u001b[0m\n\u001b[1;32m   1766\u001b[0m     \u001b[0;32mdef\u001b[0m \u001b[0m_run_search\u001b[0m\u001b[0;34m(\u001b[0m\u001b[0mself\u001b[0m\u001b[0;34m,\u001b[0m \u001b[0mevaluate_candidates\u001b[0m\u001b[0;34m)\u001b[0m\u001b[0;34m:\u001b[0m\u001b[0;34m\u001b[0m\u001b[0;34m\u001b[0m\u001b[0m\n\u001b[1;32m   1767\u001b[0m         \u001b[0;34m\"\"\"Search n_iter candidates from param_distributions\"\"\"\u001b[0m\u001b[0;34m\u001b[0m\u001b[0;34m\u001b[0m\u001b[0m\n\u001b[0;32m-> 1768\u001b[0;31m         evaluate_candidates(\n\u001b[0m\u001b[1;32m   1769\u001b[0m             ParameterSampler(\n\u001b[1;32m   1770\u001b[0m                 \u001b[0mself\u001b[0m\u001b[0;34m.\u001b[0m\u001b[0mparam_distributions\u001b[0m\u001b[0;34m,\u001b[0m \u001b[0mself\u001b[0m\u001b[0;34m.\u001b[0m\u001b[0mn_iter\u001b[0m\u001b[0;34m,\u001b[0m \u001b[0mrandom_state\u001b[0m\u001b[0;34m=\u001b[0m\u001b[0mself\u001b[0m\u001b[0;34m.\u001b[0m\u001b[0mrandom_state\u001b[0m\u001b[0;34m\u001b[0m\u001b[0;34m\u001b[0m\u001b[0m\n",
      "\u001b[0;32m/usr/local/lib/python3.10/dist-packages/sklearn/model_selection/_search.py\u001b[0m in \u001b[0;36mevaluate_candidates\u001b[0;34m(candidate_params, cv, more_results)\u001b[0m\n\u001b[1;32m    819\u001b[0m                     )\n\u001b[1;32m    820\u001b[0m \u001b[0;34m\u001b[0m\u001b[0m\n\u001b[0;32m--> 821\u001b[0;31m                 out = parallel(\n\u001b[0m\u001b[1;32m    822\u001b[0m                     delayed(_fit_and_score)(\n\u001b[1;32m    823\u001b[0m                         \u001b[0mclone\u001b[0m\u001b[0;34m(\u001b[0m\u001b[0mbase_estimator\u001b[0m\u001b[0;34m)\u001b[0m\u001b[0;34m,\u001b[0m\u001b[0;34m\u001b[0m\u001b[0;34m\u001b[0m\u001b[0m\n",
      "\u001b[0;32m/usr/local/lib/python3.10/dist-packages/sklearn/utils/parallel.py\u001b[0m in \u001b[0;36m__call__\u001b[0;34m(self, iterable)\u001b[0m\n\u001b[1;32m     61\u001b[0m             \u001b[0;32mfor\u001b[0m \u001b[0mdelayed_func\u001b[0m\u001b[0;34m,\u001b[0m \u001b[0margs\u001b[0m\u001b[0;34m,\u001b[0m \u001b[0mkwargs\u001b[0m \u001b[0;32min\u001b[0m \u001b[0miterable\u001b[0m\u001b[0;34m\u001b[0m\u001b[0;34m\u001b[0m\u001b[0m\n\u001b[1;32m     62\u001b[0m         )\n\u001b[0;32m---> 63\u001b[0;31m         \u001b[0;32mreturn\u001b[0m \u001b[0msuper\u001b[0m\u001b[0;34m(\u001b[0m\u001b[0;34m)\u001b[0m\u001b[0;34m.\u001b[0m\u001b[0m__call__\u001b[0m\u001b[0;34m(\u001b[0m\u001b[0miterable_with_config\u001b[0m\u001b[0;34m)\u001b[0m\u001b[0;34m\u001b[0m\u001b[0;34m\u001b[0m\u001b[0m\n\u001b[0m\u001b[1;32m     64\u001b[0m \u001b[0;34m\u001b[0m\u001b[0m\n\u001b[1;32m     65\u001b[0m \u001b[0;34m\u001b[0m\u001b[0m\n",
      "\u001b[0;32m/usr/local/lib/python3.10/dist-packages/joblib/parallel.py\u001b[0m in \u001b[0;36m__call__\u001b[0;34m(self, iterable)\u001b[0m\n\u001b[1;32m   2005\u001b[0m         \u001b[0mnext\u001b[0m\u001b[0;34m(\u001b[0m\u001b[0moutput\u001b[0m\u001b[0;34m)\u001b[0m\u001b[0;34m\u001b[0m\u001b[0;34m\u001b[0m\u001b[0m\n\u001b[1;32m   2006\u001b[0m \u001b[0;34m\u001b[0m\u001b[0m\n\u001b[0;32m-> 2007\u001b[0;31m         \u001b[0;32mreturn\u001b[0m \u001b[0moutput\u001b[0m \u001b[0;32mif\u001b[0m \u001b[0mself\u001b[0m\u001b[0;34m.\u001b[0m\u001b[0mreturn_generator\u001b[0m \u001b[0;32melse\u001b[0m \u001b[0mlist\u001b[0m\u001b[0;34m(\u001b[0m\u001b[0moutput\u001b[0m\u001b[0;34m)\u001b[0m\u001b[0;34m\u001b[0m\u001b[0;34m\u001b[0m\u001b[0m\n\u001b[0m\u001b[1;32m   2008\u001b[0m \u001b[0;34m\u001b[0m\u001b[0m\n\u001b[1;32m   2009\u001b[0m     \u001b[0;32mdef\u001b[0m \u001b[0m__repr__\u001b[0m\u001b[0;34m(\u001b[0m\u001b[0mself\u001b[0m\u001b[0;34m)\u001b[0m\u001b[0;34m:\u001b[0m\u001b[0;34m\u001b[0m\u001b[0;34m\u001b[0m\u001b[0m\n",
      "\u001b[0;32m/usr/local/lib/python3.10/dist-packages/joblib/parallel.py\u001b[0m in \u001b[0;36m_get_outputs\u001b[0;34m(self, iterator, pre_dispatch)\u001b[0m\n\u001b[1;32m   1648\u001b[0m \u001b[0;34m\u001b[0m\u001b[0m\n\u001b[1;32m   1649\u001b[0m             \u001b[0;32mwith\u001b[0m \u001b[0mself\u001b[0m\u001b[0;34m.\u001b[0m\u001b[0m_backend\u001b[0m\u001b[0;34m.\u001b[0m\u001b[0mretrieval_context\u001b[0m\u001b[0;34m(\u001b[0m\u001b[0;34m)\u001b[0m\u001b[0;34m:\u001b[0m\u001b[0;34m\u001b[0m\u001b[0;34m\u001b[0m\u001b[0m\n\u001b[0;32m-> 1650\u001b[0;31m                 \u001b[0;32myield\u001b[0m \u001b[0;32mfrom\u001b[0m \u001b[0mself\u001b[0m\u001b[0;34m.\u001b[0m\u001b[0m_retrieve\u001b[0m\u001b[0;34m(\u001b[0m\u001b[0;34m)\u001b[0m\u001b[0;34m\u001b[0m\u001b[0;34m\u001b[0m\u001b[0m\n\u001b[0m\u001b[1;32m   1651\u001b[0m \u001b[0;34m\u001b[0m\u001b[0m\n\u001b[1;32m   1652\u001b[0m         \u001b[0;32mexcept\u001b[0m \u001b[0mGeneratorExit\u001b[0m\u001b[0;34m:\u001b[0m\u001b[0;34m\u001b[0m\u001b[0;34m\u001b[0m\u001b[0m\n",
      "\u001b[0;32m/usr/local/lib/python3.10/dist-packages/joblib/parallel.py\u001b[0m in \u001b[0;36m_retrieve\u001b[0;34m(self)\u001b[0m\n\u001b[1;32m   1760\u001b[0m                 (self._jobs[0].get_status(\n\u001b[1;32m   1761\u001b[0m                     timeout=self.timeout) == TASK_PENDING)):\n\u001b[0;32m-> 1762\u001b[0;31m                 \u001b[0mtime\u001b[0m\u001b[0;34m.\u001b[0m\u001b[0msleep\u001b[0m\u001b[0;34m(\u001b[0m\u001b[0;36m0.01\u001b[0m\u001b[0;34m)\u001b[0m\u001b[0;34m\u001b[0m\u001b[0;34m\u001b[0m\u001b[0m\n\u001b[0m\u001b[1;32m   1763\u001b[0m                 \u001b[0;32mcontinue\u001b[0m\u001b[0;34m\u001b[0m\u001b[0;34m\u001b[0m\u001b[0m\n\u001b[1;32m   1764\u001b[0m \u001b[0;34m\u001b[0m\u001b[0m\n",
      "\u001b[0;31mKeyboardInterrupt\u001b[0m: "
     ]
    }
   ],
   "source": [
    "# RandomForest RandomizedSearchCV\n",
    "from sklearn.model_selection import RandomizedSearchCV\n",
    "from scipy.stats import randint\n",
    "\n",
    "# Define the model\n",
    "rf = RandomForestClassifier(random_state=42)\n",
    "\n",
    "# Hyperparameter space\n",
    "param_dist = {\n",
    "    'n_estimators': randint(100, 300),\n",
    "    'max_depth': [None, 10, 20, 30, 40, 50],\n",
    "    'min_samples_split': randint(2, 10),\n",
    "    'min_samples_leaf': randint(1, 10),\n",
    "    'max_features': ['sqrt', 'log2', None],\n",
    "    'bootstrap': [True, False]\n",
    "}\n",
    "\n",
    "# RandomizedSearchCV setup\n",
    "random_search = RandomizedSearchCV(\n",
    "    estimator=rf,\n",
    "    param_distributions=param_dist,\n",
    "    n_iter=20,  # number of random configs to try\n",
    "    cv=5,\n",
    "    scoring='f1',\n",
    "    verbose=2,\n",
    "    n_jobs=-1,\n",
    "    random_state=42\n",
    ")\n",
    "\n",
    "# Fit to resampled data (imbalanced solved)\n",
    "random_search.fit(X_resampled, y_resampled)\n",
    "\n",
    "# Best model\n",
    "best_rf = random_search.best_estimator_\n",
    "\n",
    "# Predict on validation set\n",
    "y_pred = best_rf.predict(X_val)\n",
    "\n",
    "# Evaluation\n",
    "print(\"Best Random Forest Hyperparameters:\", random_search.best_params_)\n",
    "print(\"Accuracy:\", accuracy_score(y_val, y_pred))\n",
    "print(\"F1 Score:\", f1_score(y_val, y_pred))\n",
    "print(\"Confusion Matrix:\\n\", confusion_matrix(y_val, y_pred))\n",
    "print(\"Classification Report:\\n\", classification_report(y_val, y_pred))\n"
   ]
  },
  {
   "cell_type": "code",
   "execution_count": null,
   "metadata": {},
   "outputs": [],
   "source": [
    "\n"
   ]
  },
  {
   "cell_type": "code",
   "execution_count": 30,
   "metadata": {
    "execution": {
     "iopub.execute_input": "2025-04-10T01:25:23.185891Z",
     "iopub.status.busy": "2025-04-10T01:25:23.185583Z",
     "iopub.status.idle": "2025-04-10T01:25:23.190230Z",
     "shell.execute_reply": "2025-04-10T01:25:23.189514Z",
     "shell.execute_reply.started": "2025-04-10T01:25:23.185865Z"
    }
   },
   "outputs": [
    {
     "name": "stdout",
     "output_type": "stream",
     "text": [
      "Submission saved \n"
     ]
    }
   ],
   "source": [
    "# Extract features\n",
    "test['day'] = test['Date'].dt.day\n",
    "test['month'] = test['Date'].dt.month\n",
    "test['weekday'] = test['Date'].dt.weekday\n",
    "test['is_weekend'] = test['weekday'].apply(lambda x: 1 if x >= 5 else 0)\n",
    "\n",
    "# Drop 'Date' for prediction and save 'id' for submission\n",
    "ids = test['ID']\n",
    "test.drop(columns=['ID', 'Date'], inplace=True)\n",
    "\n",
    "# Ensure feature order matches training\n",
    "expected_features = rf_model.feature_names_in_\n",
    "X_test_final = test[expected_features]\n",
    "\n",
    "# Make predictions\n",
    "y_test_pred = rf_model.predict(X_test_final)\n",
    "\n",
    "# Create submission DataFrame\n",
    "submission_df = pd.DataFrame({\n",
    "    'ID': ids,\n",
    "    'target': y_test_pred\n",
    "})\n",
    "\n",
    "# Save to .parquet\n",
    "submission_df.to_parquet('/kaggle/working/submission.parquet', index=False)\n",
    "\n",
    "print(\"Submission saved \")\n"
   ]
  },
  {
   "cell_type": "code",
   "execution_count": 29,
   "metadata": {
    "execution": {
     "iopub.execute_input": "2025-04-10T01:24:29.005962Z",
     "iopub.status.busy": "2025-04-10T01:24:29.005683Z",
     "iopub.status.idle": "2025-04-10T01:24:29.013998Z",
     "shell.execute_reply": "2025-04-10T01:24:29.013193Z",
     "shell.execute_reply.started": "2025-04-10T01:24:29.005940Z"
    }
   },
   "outputs": [
    {
     "data": {
      "text/html": [
       "<div>\n",
       "<style scoped>\n",
       "    .dataframe tbody tr th:only-of-type {\n",
       "        vertical-align: middle;\n",
       "    }\n",
       "\n",
       "    .dataframe tbody tr th {\n",
       "        vertical-align: top;\n",
       "    }\n",
       "\n",
       "    .dataframe thead th {\n",
       "        text-align: right;\n",
       "    }\n",
       "</style>\n",
       "<table border=\"1\" class=\"dataframe\">\n",
       "  <thead>\n",
       "    <tr style=\"text-align: right;\">\n",
       "      <th></th>\n",
       "      <th>ID</th>\n",
       "      <th>target</th>\n",
       "    </tr>\n",
       "  </thead>\n",
       "  <tbody>\n",
       "    <tr>\n",
       "      <th>0</th>\n",
       "      <td>0</td>\n",
       "      <td>0</td>\n",
       "    </tr>\n",
       "    <tr>\n",
       "      <th>1</th>\n",
       "      <td>1</td>\n",
       "      <td>0</td>\n",
       "    </tr>\n",
       "    <tr>\n",
       "      <th>2</th>\n",
       "      <td>2</td>\n",
       "      <td>0</td>\n",
       "    </tr>\n",
       "    <tr>\n",
       "      <th>3</th>\n",
       "      <td>3</td>\n",
       "      <td>0</td>\n",
       "    </tr>\n",
       "    <tr>\n",
       "      <th>4</th>\n",
       "      <td>4</td>\n",
       "      <td>0</td>\n",
       "    </tr>\n",
       "    <tr>\n",
       "      <th>...</th>\n",
       "      <td>...</td>\n",
       "      <td>...</td>\n",
       "    </tr>\n",
       "    <tr>\n",
       "      <th>409851</th>\n",
       "      <td>409851</td>\n",
       "      <td>0</td>\n",
       "    </tr>\n",
       "    <tr>\n",
       "      <th>409852</th>\n",
       "      <td>409852</td>\n",
       "      <td>0</td>\n",
       "    </tr>\n",
       "    <tr>\n",
       "      <th>409853</th>\n",
       "      <td>409853</td>\n",
       "      <td>0</td>\n",
       "    </tr>\n",
       "    <tr>\n",
       "      <th>409854</th>\n",
       "      <td>409854</td>\n",
       "      <td>0</td>\n",
       "    </tr>\n",
       "    <tr>\n",
       "      <th>409855</th>\n",
       "      <td>409855</td>\n",
       "      <td>0</td>\n",
       "    </tr>\n",
       "  </tbody>\n",
       "</table>\n",
       "<p>409856 rows × 2 columns</p>\n",
       "</div>"
      ],
      "text/plain": [
       "            ID  target\n",
       "0            0       0\n",
       "1            1       0\n",
       "2            2       0\n",
       "3            3       0\n",
       "4            4       0\n",
       "...        ...     ...\n",
       "409851  409851       0\n",
       "409852  409852       0\n",
       "409853  409853       0\n",
       "409854  409854       0\n",
       "409855  409855       0\n",
       "\n",
       "[409856 rows x 2 columns]"
      ]
     },
     "execution_count": 29,
     "metadata": {},
     "output_type": "execute_result"
    }
   ],
   "source": [
    "submission_df"
   ]
  },
  {
   "cell_type": "code",
   "execution_count": null,
   "metadata": {},
   "outputs": [],
   "source": []
  }
 ],
 "metadata": {
  "kaggle": {
   "accelerator": "nvidiaTeslaT4",
   "dataSources": [
    {
     "databundleVersionId": 11763758,
     "sourceId": 98589,
     "sourceType": "competition"
    }
   ],
   "dockerImageVersionId": 30918,
   "isGpuEnabled": true,
   "isInternetEnabled": false,
   "language": "python",
   "sourceType": "notebook"
  },
  "kernelspec": {
   "display_name": "Python 3 (ipykernel)",
   "language": "python",
   "name": "python3"
  },
  "language_info": {
   "codemirror_mode": {
    "name": "ipython",
    "version": 3
   },
   "file_extension": ".py",
   "mimetype": "text/x-python",
   "name": "python",
   "nbconvert_exporter": "python",
   "pygments_lexer": "ipython3",
   "version": "3.11.5"
  }
 },
 "nbformat": 4,
 "nbformat_minor": 4
}
